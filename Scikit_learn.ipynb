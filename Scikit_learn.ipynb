{
 "cells": [
  {
   "cell_type": "code",
   "execution_count": 2,
   "metadata": {},
   "outputs": [],
   "source": [
    "import sklearn \n",
    "from sklearn import datasets\n",
    "from sklearn import linear_model\n",
    "from sklearn.model_selection import train_test_split\n",
    "from matplotlib import pyplot as plt "
   ]
  },
  {
   "cell_type": "markdown",
   "metadata": {},
   "source": [
    "#Features/lables"
   ]
  },
  {
   "cell_type": "code",
   "execution_count": 11,
   "metadata": {},
   "outputs": [
    {
     "name": "stderr",
     "output_type": "stream",
     "text": [
      "c:\\Users\\ALFY\\anaconda3\\envs\\pylearn\\lib\\site-packages\\sklearn\\utils\\deprecation.py:87: FutureWarning: Function load_boston is deprecated; `load_boston` is deprecated in 1.0 and will be removed in 1.2.\n",
      "\n",
      "    The Boston housing prices dataset has an ethical problem. You can refer to\n",
      "    the documentation of this function for further details.\n",
      "\n",
      "    The scikit-learn maintainers therefore strongly discourage the use of this\n",
      "    dataset unless the purpose of the code is to study and educate about\n",
      "    ethical issues in data science and machine learning.\n",
      "\n",
      "    In this special case, you can fetch the dataset from the original\n",
      "    source::\n",
      "\n",
      "        import pandas as pd\n",
      "        import numpy as np\n",
      "\n",
      "\n",
      "        data_url = \"http://lib.stat.cmu.edu/datasets/boston\"\n",
      "        raw_df = pd.read_csv(data_url, sep=\"\\s+\", skiprows=22, header=None)\n",
      "        data = np.hstack([raw_df.values[::2, :], raw_df.values[1::2, :2]])\n",
      "        target = raw_df.values[1::2, 2]\n",
      "\n",
      "    Alternative datasets include the California housing dataset (i.e.\n",
      "    :func:`~sklearn.datasets.fetch_california_housing`) and the Ames housing\n",
      "    dataset. You can load the datasets as follows::\n",
      "\n",
      "        from sklearn.datasets import fetch_california_housing\n",
      "        housing = fetch_california_housing()\n",
      "\n",
      "    for the California housing dataset and::\n",
      "\n",
      "        from sklearn.datasets import fetch_openml\n",
      "        housing = fetch_openml(name=\"house_prices\", as_frame=True)\n",
      "\n",
      "    for the Ames housing dataset.\n",
      "    \n",
      "  warnings.warn(msg, category=FutureWarning)\n"
     ]
    }
   ],
   "source": [
    "import pandas as pd\n",
    "import numpy as np \n",
    "boston = datasets.load_boston()\n",
    "x = boston.data\n",
    "y = boston.target\n"
   ]
  },
  {
   "cell_type": "markdown",
   "metadata": {},
   "source": [
    "#Algorithm "
   ]
  },
  {
   "cell_type": "code",
   "execution_count": 15,
   "metadata": {},
   "outputs": [
    {
     "name": "stdout",
     "output_type": "stream",
     "text": [
      "Predictions:  [28.26962537 34.30730007 18.5157176  16.40321203 38.66267113 23.10893544\n",
      " 36.81018906 26.44041413 14.33965647 10.93596338 24.24248349 12.2770067\n",
      "  0.4492343  23.17839224 37.37622941 35.93881638 19.71208568 22.24925761\n",
      " 23.19436531 14.35185802 22.84446695 35.30226506 24.29172668 13.89110304\n",
      " 13.24416037 35.25132453 28.90868875 27.30332782 18.25277239 14.92448747\n",
      " 30.8209647  28.24353162 12.00664938 30.86516783 17.26667187  8.64648056\n",
      " 20.829468    7.7361901  18.80297029 21.30165961 23.9881198  25.0694277\n",
      " 21.86725874 22.29861286 22.07499522 34.16370026 19.73709587 25.62133315\n",
      " 12.08436927 15.70702009 29.25358218 12.39764884 34.85476351 24.95815478\n",
      " 19.80401291 22.44258404 28.61184042 41.07091769 20.84654343 14.4146468\n",
      " 14.15815296 22.5720981  15.41556957 12.64977322 20.03333269 21.61991271\n",
      " 16.66205211 20.20829474 22.0390429  30.22859936 14.29122138 31.13084849\n",
      " 23.55784188 10.05390498 19.30063768 30.21288114 34.0939329  21.74319658\n",
      " 37.51052297 13.13269945 20.79088215 23.64544345 22.37311595 22.6496678\n",
      " 21.35391516 16.07316057 26.03263259  8.69749329  6.14328189 24.79855987\n",
      " 35.74952108 21.38332249 20.14924704 17.71308717 28.92813983 14.85756224\n",
      " 17.64461121 29.75689277 14.31638286 16.04455384 10.05405279 13.64158281]\n",
      "R^2: 0.7378859850094097\n"
     ]
    }
   ],
   "source": [
    "l_reg = linear_model.LinearRegression()\n",
    "# plt.scatter(x.T[5], y)\n",
    "# plt.show()\n",
    "\n",
    "x_train, x_test, y_train, y_test = train_test_split(x, y, test_size=0.2)\n",
    "#train\n",
    "model = l_reg.fit(x_train, y_train)\n",
    "predictions = model.predict(x_test)\n",
    "print(\"Predictions: \", predictions)\n",
    "print (\"R^2:\" , l_reg.score(x, y) )\n"
   ]
  }
 ],
 "metadata": {
  "kernelspec": {
   "display_name": "Python 3.7.13 ('pylearn')",
   "language": "python",
   "name": "python3"
  },
  "language_info": {
   "codemirror_mode": {
    "name": "ipython",
    "version": 3
   },
   "file_extension": ".py",
   "mimetype": "text/x-python",
   "name": "python",
   "nbconvert_exporter": "python",
   "pygments_lexer": "ipython3",
   "version": "3.7.13"
  },
  "orig_nbformat": 4,
  "vscode": {
   "interpreter": {
    "hash": "7c908f086d106b73eae8d53f167827005c93657b3a26690ac9038e624ec8a548"
   }
  }
 },
 "nbformat": 4,
 "nbformat_minor": 2
}
